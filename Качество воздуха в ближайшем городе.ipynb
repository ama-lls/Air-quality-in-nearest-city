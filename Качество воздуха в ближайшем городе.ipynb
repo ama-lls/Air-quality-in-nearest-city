{
 "cells": [
  {
   "cell_type": "markdown",
   "metadata": {},
   "source": [
    "# Качество воздуха в ближайшем городе\n",
    "\n",
    "- [**Дашборд «Индекс качества воздуха»**](https://lookerstudio.google.com/reporting/e1123b91-adca-4516-914b-1b13d36093a6)"
   ]
  },
  {
   "cell_type": "markdown",
   "metadata": {
    "toc": true
   },
   "source": [
    "<h1>Содержание<span class=\"tocSkip\"></span></h1>\n",
    "<div class=\"toc\"><ul class=\"toc-item\"><li><span><a href=\"#Качество-воздуха-в-ближайшем-городе\" data-toc-modified-id=\"Качество-воздуха-в-ближайшем-городе-1\"><span class=\"toc-item-num\">1&nbsp;&nbsp;</span>Качество воздуха в ближайшем городе</a></span><ul class=\"toc-item\"><li><span><a href=\"#Импорт-библиотек\" data-toc-modified-id=\"Импорт-библиотек-1.1\"><span class=\"toc-item-num\">1.1&nbsp;&nbsp;</span>Импорт библиотек</a></span></li></ul></li><li><span><a href=\"#Подключение-к-AirVisual-API\" data-toc-modified-id=\"Подключение-к-AirVisual-API-2\"><span class=\"toc-item-num\">2&nbsp;&nbsp;</span>Подключение к AirVisual API</a></span></li><li><span><a href=\"#Подключение-к-Google-Sheets-API\" data-toc-modified-id=\"Подключение-к-Google-Sheets-API-3\"><span class=\"toc-item-num\">3&nbsp;&nbsp;</span>Подключение к Google Sheets API</a></span></li><li><span><a href=\"#Дашборд\" data-toc-modified-id=\"Дашборд-4\"><span class=\"toc-item-num\">4&nbsp;&nbsp;</span>Дашборд</a></span></li><li><span><a href=\"#Вывод\" data-toc-modified-id=\"Вывод-5\"><span class=\"toc-item-num\">5&nbsp;&nbsp;</span>Вывод</a></span></li></ul></div>"
   ]
  },
  {
   "cell_type": "markdown",
   "metadata": {},
   "source": [
    "Ход проекта\n",
    "- Подключение к API [AQAir](https://www.iqair.com/ru/world-air-quality).\n",
    "- Получение текущего индекса качества воздуха (AQI) и погоды в ближайшем городе, используя геолокацию IP-адреса.\n",
    "- Вывод данных в датафрейм.\n",
    "- Подключение к Google Sheets API.\n",
    "- Обновление данных в Google Sheets.\n",
    "- Вывод полученной информации на дашборд в Looker Studio с подключением к Google Sheets."
   ]
  },
  {
   "cell_type": "markdown",
   "metadata": {},
   "source": [
    "## Импорт библиотек"
   ]
  },
  {
   "cell_type": "code",
   "execution_count": 1,
   "metadata": {},
   "outputs": [],
   "source": [
    "import requests\n",
    "import pandas as pd\n",
    "import pprint as pp\n",
    "import gspread\n",
    "from google.oauth2 import service_account\n",
    "\n",
    "from datetime import datetime"
   ]
  },
  {
   "cell_type": "markdown",
   "metadata": {},
   "source": [
    "# Подключение к AirVisual API"
   ]
  },
  {
   "cell_type": "markdown",
   "metadata": {},
   "source": [
    "[Ссылка на документацию AirVisual API](https://api-docs.iqair.com/?version=latest#5bc93d6b-d563-43dc-adb9-c266b2e96d4a)"
   ]
  },
  {
   "cell_type": "markdown",
   "metadata": {},
   "source": [
    "Сохраним ссылку и ключ API в переменных `url` и `key` соответственно."
   ]
  },
  {
   "cell_type": "code",
   "execution_count": 2,
   "metadata": {},
   "outputs": [],
   "source": [
    "# http://api.airvisual.com/v2/city?city=Los Angeles&state=California&country=USA&key={{YOUR_API_KEY}}\n",
    "\n",
    "url = 'http://api.airvisual.com/v2/city'\n",
    "key = 'YOUR_API_KEY'"
   ]
  },
  {
   "cell_type": "markdown",
   "metadata": {},
   "source": [
    "Напишем запрос на получение списка доступных стран."
   ]
  },
  {
   "cell_type": "code",
   "execution_count": 3,
   "metadata": {
    "scrolled": true
   },
   "outputs": [
    {
     "name": "stdout",
     "output_type": "stream",
     "text": [
      "<Response [200]>\n"
     ]
    }
   ],
   "source": [
    "r = requests.get('http://api.airvisual.com/v2/countries?key={{YOUR_API_KEY}}')\n",
    "\n",
    "print(r)"
   ]
  },
  {
   "cell_type": "markdown",
   "metadata": {},
   "source": [
    "Вывод результата запроса."
   ]
  },
  {
   "cell_type": "code",
   "execution_count": 4,
   "metadata": {
    "scrolled": false
   },
   "outputs": [
    {
     "data": {
      "text/plain": [
       "{'status': 'success',\n",
       " 'data': [{'country': 'Afghanistan'},\n",
       "  {'country': 'Albania'},\n",
       "  {'country': 'Algeria'},\n",
       "  {'country': 'Andorra'},\n",
       "  {'country': 'Angola'},\n",
       "  {'country': 'Anguilla'},\n",
       "  {'country': 'Argentina'},\n",
       "  {'country': 'Armenia'},\n",
       "  {'country': 'Australia'},\n",
       "  {'country': 'Austria'},\n",
       "  {'country': 'Azerbaijan'},\n",
       "  {'country': 'Bahamas'},\n",
       "  {'country': 'Bahrain'},\n",
       "  {'country': 'Bangladesh'},\n",
       "  {'country': 'Barbados'},\n",
       "  {'country': 'Belgium'},\n",
       "  {'country': 'Belize'},\n",
       "  {'country': 'Bermuda'},\n",
       "  {'country': 'Bolivia'},\n",
       "  {'country': 'Bosnia Herzegovina'},\n",
       "  {'country': 'Brazil'},\n",
       "  {'country': 'Bulgaria'},\n",
       "  {'country': 'Burkina Faso'},\n",
       "  {'country': 'Burundi'},\n",
       "  {'country': 'Cambodia'},\n",
       "  {'country': 'Cameroon'},\n",
       "  {'country': 'Canada'},\n",
       "  {'country': 'Cape Verde'},\n",
       "  {'country': 'Cayman Islands'},\n",
       "  {'country': 'Central African Republic'},\n",
       "  {'country': 'Chad'},\n",
       "  {'country': 'Chile'},\n",
       "  {'country': 'China'},\n",
       "  {'country': 'Colombia'},\n",
       "  {'country': 'Costa Rica'},\n",
       "  {'country': 'Croatia'},\n",
       "  {'country': 'Cyprus'},\n",
       "  {'country': 'Czech Republic'},\n",
       "  {'country': 'Democratic Republic of the Congo'},\n",
       "  {'country': 'Denmark'},\n",
       "  {'country': 'Djibouti'},\n",
       "  {'country': 'Ecuador'},\n",
       "  {'country': 'Egypt'},\n",
       "  {'country': 'El Salvador'},\n",
       "  {'country': 'Estonia'},\n",
       "  {'country': 'Ethiopia'},\n",
       "  {'country': 'Finland'},\n",
       "  {'country': 'France'},\n",
       "  {'country': 'French Polynesia'},\n",
       "  {'country': 'Gabon'},\n",
       "  {'country': 'Gambia'},\n",
       "  {'country': 'Georgia'},\n",
       "  {'country': 'Germany'},\n",
       "  {'country': 'Ghana'},\n",
       "  {'country': 'Greece'},\n",
       "  {'country': 'Greenland'},\n",
       "  {'country': 'Grenada'},\n",
       "  {'country': 'Guatemala'},\n",
       "  {'country': 'Guyana'},\n",
       "  {'country': 'Honduras'},\n",
       "  {'country': 'Hong Kong SAR'},\n",
       "  {'country': 'Hungary'},\n",
       "  {'country': 'Iceland'},\n",
       "  {'country': 'India'},\n",
       "  {'country': 'Indonesia'},\n",
       "  {'country': 'Iran'},\n",
       "  {'country': 'Iraq'},\n",
       "  {'country': 'Ireland'},\n",
       "  {'country': 'Israel'},\n",
       "  {'country': 'Italy'},\n",
       "  {'country': 'Ivory Coast'},\n",
       "  {'country': 'Jamaica'},\n",
       "  {'country': 'Japan'},\n",
       "  {'country': 'Kazakhstan'},\n",
       "  {'country': 'Kenya'},\n",
       "  {'country': 'Kosovo'},\n",
       "  {'country': 'Kuwait'},\n",
       "  {'country': 'Kyrgyzstan'},\n",
       "  {'country': 'Laos'},\n",
       "  {'country': 'Latvia'},\n",
       "  {'country': 'Libya'},\n",
       "  {'country': 'Liechtenstein'},\n",
       "  {'country': 'Lithuania'},\n",
       "  {'country': 'Luxembourg'},\n",
       "  {'country': 'Macao SAR'},\n",
       "  {'country': 'Madagascar'},\n",
       "  {'country': 'Malaysia'},\n",
       "  {'country': 'Maldives'},\n",
       "  {'country': 'Malta'},\n",
       "  {'country': 'Mexico'},\n",
       "  {'country': 'Moldova'},\n",
       "  {'country': 'Mongolia'},\n",
       "  {'country': 'Montenegro'},\n",
       "  {'country': 'Montserrat'},\n",
       "  {'country': 'Mozambique'},\n",
       "  {'country': 'Myanmar'},\n",
       "  {'country': 'Nepal'},\n",
       "  {'country': 'Netherlands'},\n",
       "  {'country': 'New Zealand'},\n",
       "  {'country': 'Nicaragua'},\n",
       "  {'country': 'Nigeria'},\n",
       "  {'country': 'North Macedonia'},\n",
       "  {'country': 'Norway'},\n",
       "  {'country': 'Oman'},\n",
       "  {'country': 'Pakistan'},\n",
       "  {'country': 'Palestinian Territory'},\n",
       "  {'country': 'Panama'},\n",
       "  {'country': 'Paraguay'},\n",
       "  {'country': 'Peru'},\n",
       "  {'country': 'Philippines'},\n",
       "  {'country': 'Poland'},\n",
       "  {'country': 'Portugal'},\n",
       "  {'country': 'Puerto Rico'},\n",
       "  {'country': 'Qatar'},\n",
       "  {'country': 'Romania'},\n",
       "  {'country': 'Russia'},\n",
       "  {'country': 'Rwanda'},\n",
       "  {'country': 'San Marino'},\n",
       "  {'country': 'Saudi Arabia'},\n",
       "  {'country': 'Serbia'},\n",
       "  {'country': 'Singapore'},\n",
       "  {'country': 'Slovakia'},\n",
       "  {'country': 'Slovenia'},\n",
       "  {'country': 'South Africa'},\n",
       "  {'country': 'South Korea'},\n",
       "  {'country': 'Spain'},\n",
       "  {'country': 'Sri Lanka'},\n",
       "  {'country': 'Suriname'},\n",
       "  {'country': 'Svalbard and Jan Mayen'},\n",
       "  {'country': 'Sweden'},\n",
       "  {'country': 'Switzerland'},\n",
       "  {'country': 'Taiwan'},\n",
       "  {'country': 'Tajikistan'},\n",
       "  {'country': 'Tanzania'},\n",
       "  {'country': 'Thailand'},\n",
       "  {'country': 'Togo'},\n",
       "  {'country': 'Tonga'},\n",
       "  {'country': 'Trinidad and Tobago'},\n",
       "  {'country': 'Turkey'},\n",
       "  {'country': 'Turkmenistan'},\n",
       "  {'country': 'U.S. Virgin Islands'},\n",
       "  {'country': 'USA'},\n",
       "  {'country': 'Uganda'},\n",
       "  {'country': 'Ukraine'},\n",
       "  {'country': 'United Arab Emirates'},\n",
       "  {'country': 'United Kingdom'},\n",
       "  {'country': 'Uruguay'},\n",
       "  {'country': 'Uzbekistan'},\n",
       "  {'country': 'Vietnam'},\n",
       "  {'country': 'Zambia'},\n",
       "  {'country': 'Zimbabwe'}]}"
      ]
     },
     "execution_count": 4,
     "metadata": {},
     "output_type": "execute_result"
    }
   ],
   "source": [
    "r.json()"
   ]
  },
  {
   "cell_type": "markdown",
   "metadata": {},
   "source": [
    "Россия есть в списке доступных стран."
   ]
  },
  {
   "cell_type": "markdown",
   "metadata": {},
   "source": [
    "Напишем запрос на получение списка доступных регионов России."
   ]
  },
  {
   "cell_type": "code",
   "execution_count": 5,
   "metadata": {},
   "outputs": [
    {
     "name": "stdout",
     "output_type": "stream",
     "text": [
      "<Response [200]>\n"
     ]
    }
   ],
   "source": [
    "r = requests.get('http://api.airvisual.com/v2/states?country=Russia&key={{YOUR_API_KEY}}')\n",
    "\n",
    "print(r)\n",
    "# pp.pprint(r.json())"
   ]
  },
  {
   "cell_type": "markdown",
   "metadata": {},
   "source": [
    "Вывод результата запроса."
   ]
  },
  {
   "cell_type": "code",
   "execution_count": 6,
   "metadata": {
    "scrolled": false
   },
   "outputs": [
    {
     "data": {
      "text/plain": [
       "{'status': 'success',\n",
       " 'data': [{'state': 'Adygeya'},\n",
       "  {'state': 'Altai'},\n",
       "  {'state': 'Altai Krai'},\n",
       "  {'state': 'Amur'},\n",
       "  {'state': 'Arkhangelskaya'},\n",
       "  {'state': 'Astrakhan'},\n",
       "  {'state': 'Bashkortostan'},\n",
       "  {'state': 'Belgorod'},\n",
       "  {'state': 'Brjansk'},\n",
       "  {'state': 'Chechnya'},\n",
       "  {'state': 'Chelyabinsk'},\n",
       "  {'state': 'Chukotka'},\n",
       "  {'state': 'Chuvashia'},\n",
       "  {'state': 'Dagestan'},\n",
       "  {'state': 'Ingushetiya'},\n",
       "  {'state': 'Irkutsk'},\n",
       "  {'state': 'Ivanovo'},\n",
       "  {'state': 'Jaroslavl'},\n",
       "  {'state': 'Kabardino-Balkariya'},\n",
       "  {'state': 'Kaliningrad'},\n",
       "  {'state': 'Kalmykiya'},\n",
       "  {'state': 'Kaluga'},\n",
       "  {'state': 'Kamtsjatka'},\n",
       "  {'state': 'Karachayevo-Cherkesiya'},\n",
       "  {'state': 'Karelia'},\n",
       "  {'state': 'Kemerovo'},\n",
       "  {'state': 'Khabarovsk'},\n",
       "  {'state': 'Khakasiya'},\n",
       "  {'state': 'Khanty-Mansia'},\n",
       "  {'state': 'Kirov'},\n",
       "  {'state': 'Komi'},\n",
       "  {'state': 'Kostroma'},\n",
       "  {'state': 'Krasnodarskiy'},\n",
       "  {'state': 'Krasnoyarsk Krai'},\n",
       "  {'state': 'Kurgan'},\n",
       "  {'state': 'Kursk'},\n",
       "  {'state': \"Leningradskaya Oblast'\"},\n",
       "  {'state': 'Lipetsk'},\n",
       "  {'state': 'Mariy-El'},\n",
       "  {'state': 'Mordoviya'},\n",
       "  {'state': 'Moscow'},\n",
       "  {'state': 'Moscow Oblast'},\n",
       "  {'state': 'Murmansk'},\n",
       "  {'state': 'Nizjnij Novgorod'},\n",
       "  {'state': 'North Ossetia'},\n",
       "  {'state': 'Novgorod'},\n",
       "  {'state': 'Novosibirsk'},\n",
       "  {'state': 'Omsk'},\n",
       "  {'state': 'Orenburg'},\n",
       "  {'state': 'Orjol'},\n",
       "  {'state': 'Penza'},\n",
       "  {'state': 'Perm'},\n",
       "  {'state': 'Primorskiy'},\n",
       "  {'state': 'Pskov'},\n",
       "  {'state': 'Republic of Tyva'},\n",
       "  {'state': 'Respublika Buryatiya'},\n",
       "  {'state': 'Rjazan'},\n",
       "  {'state': 'Rostov'},\n",
       "  {'state': 'Sakha'},\n",
       "  {'state': 'Sakhalin'},\n",
       "  {'state': 'Samara'},\n",
       "  {'state': 'Saratov'},\n",
       "  {'state': 'Smolensk'},\n",
       "  {'state': 'St.-Petersburg'},\n",
       "  {'state': \"Stavropol'skiy\"},\n",
       "  {'state': 'Sverdlovsk'},\n",
       "  {'state': 'Tambov'},\n",
       "  {'state': 'Tatarstan'},\n",
       "  {'state': 'Tomsk'},\n",
       "  {'state': 'Transbaikal Territory'},\n",
       "  {'state': 'Tula'},\n",
       "  {'state': 'Tverskaya'},\n",
       "  {'state': 'Tyumenskaya'},\n",
       "  {'state': 'Udmurtiya'},\n",
       "  {'state': 'Ulyanovsk'},\n",
       "  {'state': 'Vladimir'},\n",
       "  {'state': 'Volgograd'},\n",
       "  {'state': 'Vologda'},\n",
       "  {'state': 'Voronezj'},\n",
       "  {'state': 'Yamalo-Nenets'}]}"
      ]
     },
     "execution_count": 6,
     "metadata": {},
     "output_type": "execute_result"
    }
   ],
   "source": [
    "r.json()"
   ]
  },
  {
   "cell_type": "markdown",
   "metadata": {},
   "source": [
    "Получили названия регионов. Для некоторых регионов нет названия региона, а есть название города."
   ]
  },
  {
   "cell_type": "markdown",
   "metadata": {},
   "source": [
    "Напишем запрос на получение данных по Москве с помощью параметров."
   ]
  },
  {
   "cell_type": "code",
   "execution_count": 7,
   "metadata": {},
   "outputs": [
    {
     "name": "stdout",
     "output_type": "stream",
     "text": [
      "<Response [200]>\n"
     ]
    }
   ],
   "source": [
    "payload = {'city': 'Moscow', 'state': 'Moscow', 'country': 'Russia', 'key': key}\n",
    "r = requests.get(url, params = payload)\n",
    "\n",
    "print(r)"
   ]
  },
  {
   "cell_type": "markdown",
   "metadata": {},
   "source": [
    "Вывод результата запроса."
   ]
  },
  {
   "cell_type": "code",
   "execution_count": 8,
   "metadata": {},
   "outputs": [
    {
     "data": {
      "text/plain": [
       "{'status': 'success',\n",
       " 'data': {'city': 'Moscow',\n",
       "  'state': 'Moscow',\n",
       "  'country': 'Russia',\n",
       "  'location': {'type': 'Point', 'coordinates': [37.61556, 55.75222]},\n",
       "  'current': {'pollution': {'ts': '2024-04-24T09:00:00.000Z',\n",
       "    'aqius': 21,\n",
       "    'mainus': 'p2',\n",
       "    'aqicn': 7,\n",
       "    'maincn': 'p2'},\n",
       "   'weather': {'ts': '2024-04-24T08:00:00.000Z',\n",
       "    'tp': 9,\n",
       "    'pr': 1022,\n",
       "    'hu': 41,\n",
       "    'ws': 1.59,\n",
       "    'wd': 231,\n",
       "    'ic': '04d'}}}}"
      ]
     },
     "execution_count": 8,
     "metadata": {},
     "output_type": "execute_result"
    }
   ],
   "source": [
    "r.json()"
   ]
  },
  {
   "cell_type": "markdown",
   "metadata": {},
   "source": [
    "Получили данные по качеству воздуха, погоде, координатах Москвы."
   ]
  },
  {
   "cell_type": "markdown",
   "metadata": {},
   "source": [
    "Напишем запрос на получение данных по ближайшему городу, используя геолокацию IP-адреса."
   ]
  },
  {
   "cell_type": "code",
   "execution_count": 9,
   "metadata": {
    "scrolled": true
   },
   "outputs": [
    {
     "name": "stdout",
     "output_type": "stream",
     "text": [
      "<Response [200]>\n"
     ]
    }
   ],
   "source": [
    "r = requests.get('http://api.airvisual.com/v2/nearest_city?key={{YOUR_API_KEY}}')\n",
    "\n",
    "print(r) "
   ]
  },
  {
   "cell_type": "markdown",
   "metadata": {},
   "source": [
    "Вывод результата запроса несколькими способами (для удобства)."
   ]
  },
  {
   "cell_type": "code",
   "execution_count": 10,
   "metadata": {},
   "outputs": [
    {
     "data": {
      "text/plain": [
       "{'status': 'success',\n",
       " 'data': {'city': 'Nizhniy Novgorod',\n",
       "  'state': 'Nizjnij Novgorod',\n",
       "  'country': 'Russia',\n",
       "  'location': {'type': 'Point', 'coordinates': [44.00205, 56.32867]},\n",
       "  'current': {'pollution': {'ts': '2024-04-24T06:00:00.000Z',\n",
       "    'aqius': 19,\n",
       "    'mainus': 'p2',\n",
       "    'aqicn': 7,\n",
       "    'maincn': 'p2'},\n",
       "   'weather': {'ts': '2024-04-24T08:00:00.000Z',\n",
       "    'tp': 12,\n",
       "    'pr': 1020,\n",
       "    'hu': 44,\n",
       "    'ws': 6,\n",
       "    'wd': 250,\n",
       "    'ic': '01d'}}}}"
      ]
     },
     "execution_count": 10,
     "metadata": {},
     "output_type": "execute_result"
    }
   ],
   "source": [
    "r.json()"
   ]
  },
  {
   "cell_type": "code",
   "execution_count": 11,
   "metadata": {},
   "outputs": [
    {
     "name": "stdout",
     "output_type": "stream",
     "text": [
      "{'data': {'city': 'Nizhniy Novgorod',\n",
      "          'country': 'Russia',\n",
      "          'current': {'pollution': {'aqicn': 7,\n",
      "                                    'aqius': 19,\n",
      "                                    'maincn': 'p2',\n",
      "                                    'mainus': 'p2',\n",
      "                                    'ts': '2024-04-24T06:00:00.000Z'},\n",
      "                      'weather': {'hu': 44,\n",
      "                                  'ic': '01d',\n",
      "                                  'pr': 1020,\n",
      "                                  'tp': 12,\n",
      "                                  'ts': '2024-04-24T08:00:00.000Z',\n",
      "                                  'wd': 250,\n",
      "                                  'ws': 6}},\n",
      "          'location': {'coordinates': [44.00205, 56.32867], 'type': 'Point'},\n",
      "          'state': 'Nizjnij Novgorod'},\n",
      " 'status': 'success'}\n"
     ]
    }
   ],
   "source": [
    "pp.pprint(r.json())   "
   ]
  },
  {
   "cell_type": "code",
   "execution_count": 12,
   "metadata": {},
   "outputs": [
    {
     "name": "stdout",
     "output_type": "stream",
     "text": [
      " Ближайший город Nizhniy Novgorod\n"
     ]
    }
   ],
   "source": [
    "print(' Ближайший город', r.json()['data']['city'])"
   ]
  },
  {
   "cell_type": "code",
   "execution_count": 13,
   "metadata": {},
   "outputs": [
    {
     "name": "stdout",
     "output_type": "stream",
     "text": [
      "Текущий AQI в ближайшем городе 19\n"
     ]
    }
   ],
   "source": [
    "print('Текущий AQI в ближайшем городе', r.json()['data']['current']['pollution']['aqius'])"
   ]
  },
  {
   "cell_type": "markdown",
   "metadata": {},
   "source": [
    "Сбросим ограничения на количество символов в записи."
   ]
  },
  {
   "cell_type": "code",
   "execution_count": 14,
   "metadata": {},
   "outputs": [],
   "source": [
    "pd.set_option('display.max_colwidth', None)"
   ]
  },
  {
   "cell_type": "markdown",
   "metadata": {},
   "source": [
    "Выведем результат запроса в датафрейм."
   ]
  },
  {
   "cell_type": "code",
   "execution_count": 15,
   "metadata": {},
   "outputs": [
    {
     "data": {
      "text/html": [
       "<div>\n",
       "<style scoped>\n",
       "    .dataframe tbody tr th:only-of-type {\n",
       "        vertical-align: middle;\n",
       "    }\n",
       "\n",
       "    .dataframe tbody tr th {\n",
       "        vertical-align: top;\n",
       "    }\n",
       "\n",
       "    .dataframe thead th {\n",
       "        text-align: right;\n",
       "    }\n",
       "</style>\n",
       "<table border=\"1\" class=\"dataframe\">\n",
       "  <thead>\n",
       "    <tr style=\"text-align: right;\">\n",
       "      <th></th>\n",
       "      <th>status</th>\n",
       "      <th>data</th>\n",
       "    </tr>\n",
       "  </thead>\n",
       "  <tbody>\n",
       "    <tr>\n",
       "      <th>city</th>\n",
       "      <td>success</td>\n",
       "      <td>Nizhniy Novgorod</td>\n",
       "    </tr>\n",
       "    <tr>\n",
       "      <th>country</th>\n",
       "      <td>success</td>\n",
       "      <td>Russia</td>\n",
       "    </tr>\n",
       "    <tr>\n",
       "      <th>current</th>\n",
       "      <td>success</td>\n",
       "      <td>{'pollution': {'ts': '2024-04-24T06:00:00.000Z', 'aqius': 19, 'mainus': 'p2', 'aqicn': 7, 'maincn': 'p2'}, 'weather': {'ts': '2024-04-24T08:00:00.000Z', 'tp': 12, 'pr': 1020, 'hu': 44, 'ws': 6, 'wd': 250, 'ic': '01d'}}</td>\n",
       "    </tr>\n",
       "    <tr>\n",
       "      <th>location</th>\n",
       "      <td>success</td>\n",
       "      <td>{'type': 'Point', 'coordinates': [44.00205, 56.32867]}</td>\n",
       "    </tr>\n",
       "    <tr>\n",
       "      <th>state</th>\n",
       "      <td>success</td>\n",
       "      <td>Nizjnij Novgorod</td>\n",
       "    </tr>\n",
       "  </tbody>\n",
       "</table>\n",
       "</div>"
      ],
      "text/plain": [
       "           status  \\\n",
       "city      success   \n",
       "country   success   \n",
       "current   success   \n",
       "location  success   \n",
       "state     success   \n",
       "\n",
       "                                                                                                                                                                                                                                data  \n",
       "city                                                                                                                                                                                                                Nizhniy Novgorod  \n",
       "country                                                                                                                                                                                                                       Russia  \n",
       "current   {'pollution': {'ts': '2024-04-24T06:00:00.000Z', 'aqius': 19, 'mainus': 'p2', 'aqicn': 7, 'maincn': 'p2'}, 'weather': {'ts': '2024-04-24T08:00:00.000Z', 'tp': 12, 'pr': 1020, 'hu': 44, 'ws': 6, 'wd': 250, 'ic': '01d'}}  \n",
       "location                                                                                                                                                                      {'type': 'Point', 'coordinates': [44.00205, 56.32867]}  \n",
       "state                                                                                                                                                                                                               Nizjnij Novgorod  "
      ]
     },
     "execution_count": 15,
     "metadata": {},
     "output_type": "execute_result"
    }
   ],
   "source": [
    "df = pd.read_json(r.text)\n",
    "df"
   ]
  },
  {
   "cell_type": "markdown",
   "metadata": {},
   "source": [
    "Распарсим данные по качеству воздуха, приведем данные в столбце `ts` к нужному формату `дата и время` и запишем полученные данные в датафрейм."
   ]
  },
  {
   "cell_type": "code",
   "execution_count": 16,
   "metadata": {},
   "outputs": [
    {
     "data": {
      "text/html": [
       "<div>\n",
       "<style scoped>\n",
       "    .dataframe tbody tr th:only-of-type {\n",
       "        vertical-align: middle;\n",
       "    }\n",
       "\n",
       "    .dataframe tbody tr th {\n",
       "        vertical-align: top;\n",
       "    }\n",
       "\n",
       "    .dataframe thead th {\n",
       "        text-align: right;\n",
       "    }\n",
       "</style>\n",
       "<table border=\"1\" class=\"dataframe\">\n",
       "  <thead>\n",
       "    <tr style=\"text-align: right;\">\n",
       "      <th></th>\n",
       "      <th>ts</th>\n",
       "      <th>aqius</th>\n",
       "      <th>mainus</th>\n",
       "      <th>aqicn</th>\n",
       "      <th>maincn</th>\n",
       "    </tr>\n",
       "  </thead>\n",
       "  <tbody>\n",
       "    <tr>\n",
       "      <th>0</th>\n",
       "      <td>2024-04-24 06:00:00</td>\n",
       "      <td>19</td>\n",
       "      <td>p2</td>\n",
       "      <td>7</td>\n",
       "      <td>p2</td>\n",
       "    </tr>\n",
       "  </tbody>\n",
       "</table>\n",
       "</div>"
      ],
      "text/plain": [
       "                   ts  aqius mainus  aqicn maincn\n",
       "0 2024-04-24 06:00:00     19     p2      7     p2"
      ]
     },
     "execution_count": 16,
     "metadata": {},
     "output_type": "execute_result"
    }
   ],
   "source": [
    "summary = pd.json_normalize(r.json()[\"data\"][\"current\"][\"pollution\"], meta=\"ts\").assign(\n",
    "    ts=lambda x: pd.to_datetime(x.ts, format=\"%Y-%m-%dT%H:%M:%S.%fZ\")\n",
    ")\n",
    "\n",
    "summary"
   ]
  },
  {
   "cell_type": "markdown",
   "metadata": {},
   "source": [
    "[Справка из документации](https://api-docs.iqair.com/?version=latest#5bc93d6b-d563-43dc-adb9-c266b2e96d4a)\n",
    "  - Станции по всему миру имеют циклы обновления, которые отличаются друг от друга.\n",
    "  - Данные со станций обновляются только один раз в час.\n",
    "  - API возвращает вычисленный AQI для каждого загрязнителя и для станции (основного загрязнителя).\n",
    "  - API возвращает 2 типа AQI: AQI в США (EPA) и AQI в Китае.\n",
    "  - Информация о станциях может периодически обновляться. Например, могут корректироваться их GPS-координаты или изменяться названия. \n",
    "  - Если станция не выдает значения загрязнения, это означает, что данные не были опубликованы за данный конкретный час.\n",
    "  - Загрязняющие вещества не всегда имеют одинаковые единицы измерения концентрации. Иногда CO указывается в мкг/м3, а иногда в промилле. Однако значения PM2,5 и PM10 всегда указываются в мкг/м3."
   ]
  },
  {
   "cell_type": "markdown",
   "metadata": {},
   "source": [
    "Распарсим данные по погоде, приведем данные в столбце `ts` к нужному формату `дата и время` и запишем полученные данные в датафрейм."
   ]
  },
  {
   "cell_type": "code",
   "execution_count": 17,
   "metadata": {},
   "outputs": [
    {
     "data": {
      "text/html": [
       "<div>\n",
       "<style scoped>\n",
       "    .dataframe tbody tr th:only-of-type {\n",
       "        vertical-align: middle;\n",
       "    }\n",
       "\n",
       "    .dataframe tbody tr th {\n",
       "        vertical-align: top;\n",
       "    }\n",
       "\n",
       "    .dataframe thead th {\n",
       "        text-align: right;\n",
       "    }\n",
       "</style>\n",
       "<table border=\"1\" class=\"dataframe\">\n",
       "  <thead>\n",
       "    <tr style=\"text-align: right;\">\n",
       "      <th></th>\n",
       "      <th>ts</th>\n",
       "      <th>tp</th>\n",
       "      <th>pr</th>\n",
       "      <th>hu</th>\n",
       "      <th>ws</th>\n",
       "      <th>wd</th>\n",
       "      <th>ic</th>\n",
       "    </tr>\n",
       "  </thead>\n",
       "  <tbody>\n",
       "    <tr>\n",
       "      <th>0</th>\n",
       "      <td>2024-04-24 08:00:00</td>\n",
       "      <td>12</td>\n",
       "      <td>1020</td>\n",
       "      <td>44</td>\n",
       "      <td>6</td>\n",
       "      <td>250</td>\n",
       "      <td>01d</td>\n",
       "    </tr>\n",
       "  </tbody>\n",
       "</table>\n",
       "</div>"
      ],
      "text/plain": [
       "                   ts  tp    pr  hu  ws   wd   ic\n",
       "0 2024-04-24 08:00:00  12  1020  44   6  250  01d"
      ]
     },
     "execution_count": 17,
     "metadata": {},
     "output_type": "execute_result"
    }
   ],
   "source": [
    "weather = pd.json_normalize(r.json()['data']['current']['weather'], meta = 'ts').assign(\n",
    "    ts = lambda x: pd.to_datetime(x.ts, format = '%Y-%m-%dT%H:%M:%S.%fZ')\n",
    ")\n",
    "\n",
    "weather"
   ]
  },
  {
   "cell_type": "markdown",
   "metadata": {},
   "source": [
    "Получили текущие данные о температуре воздуха, влажности воздуха и т.д."
   ]
  },
  {
   "cell_type": "markdown",
   "metadata": {},
   "source": [
    "Распарсим данные по координатам города и запишем полученные данные в датафрейм."
   ]
  },
  {
   "cell_type": "code",
   "execution_count": 18,
   "metadata": {},
   "outputs": [
    {
     "data": {
      "text/html": [
       "<div>\n",
       "<style scoped>\n",
       "    .dataframe tbody tr th:only-of-type {\n",
       "        vertical-align: middle;\n",
       "    }\n",
       "\n",
       "    .dataframe tbody tr th {\n",
       "        vertical-align: top;\n",
       "    }\n",
       "\n",
       "    .dataframe thead th {\n",
       "        text-align: right;\n",
       "    }\n",
       "</style>\n",
       "<table border=\"1\" class=\"dataframe\">\n",
       "  <thead>\n",
       "    <tr style=\"text-align: right;\">\n",
       "      <th></th>\n",
       "      <th>type</th>\n",
       "      <th>coordinates</th>\n",
       "    </tr>\n",
       "  </thead>\n",
       "  <tbody>\n",
       "    <tr>\n",
       "      <th>0</th>\n",
       "      <td>Point</td>\n",
       "      <td>[44.00205, 56.32867]</td>\n",
       "    </tr>\n",
       "  </tbody>\n",
       "</table>\n",
       "</div>"
      ],
      "text/plain": [
       "    type           coordinates\n",
       "0  Point  [44.00205, 56.32867]"
      ]
     },
     "execution_count": 18,
     "metadata": {},
     "output_type": "execute_result"
    }
   ],
   "source": [
    "coord = pd.json_normalize(r.json()['data']['location'])\n",
    "\n",
    "coord"
   ]
  },
  {
   "cell_type": "markdown",
   "metadata": {},
   "source": [
    "Получили координаты ближайшего города."
   ]
  },
  {
   "cell_type": "markdown",
   "metadata": {},
   "source": [
    "Сведем полученную информацию в один датафрейм."
   ]
  },
  {
   "cell_type": "code",
   "execution_count": 19,
   "metadata": {},
   "outputs": [
    {
     "data": {
      "text/html": [
       "<div>\n",
       "<style scoped>\n",
       "    .dataframe tbody tr th:only-of-type {\n",
       "        vertical-align: middle;\n",
       "    }\n",
       "\n",
       "    .dataframe tbody tr th {\n",
       "        vertical-align: top;\n",
       "    }\n",
       "\n",
       "    .dataframe thead th {\n",
       "        text-align: right;\n",
       "    }\n",
       "</style>\n",
       "<table border=\"1\" class=\"dataframe\">\n",
       "  <thead>\n",
       "    <tr style=\"text-align: right;\">\n",
       "      <th></th>\n",
       "      <th>ts</th>\n",
       "      <th>aqius</th>\n",
       "      <th>mainus</th>\n",
       "      <th>aqicn</th>\n",
       "      <th>maincn</th>\n",
       "      <th>nearest city</th>\n",
       "      <th>weather tp</th>\n",
       "      <th>weather pr</th>\n",
       "      <th>weather hu</th>\n",
       "      <th>weather ws</th>\n",
       "      <th>weather wd</th>\n",
       "      <th>weather ic</th>\n",
       "      <th>coordinates longitude</th>\n",
       "      <th>coordinates latitude</th>\n",
       "      <th>timestamp</th>\n",
       "    </tr>\n",
       "  </thead>\n",
       "  <tbody>\n",
       "    <tr>\n",
       "      <th>0</th>\n",
       "      <td>2024-04-24 06:00:00</td>\n",
       "      <td>19</td>\n",
       "      <td>p2</td>\n",
       "      <td>7</td>\n",
       "      <td>p2</td>\n",
       "      <td>Nizhniy Novgorod</td>\n",
       "      <td>12</td>\n",
       "      <td>1020</td>\n",
       "      <td>44</td>\n",
       "      <td>6</td>\n",
       "      <td>250</td>\n",
       "      <td>01d</td>\n",
       "      <td>44.00205</td>\n",
       "      <td>56.32867</td>\n",
       "      <td>2024-04-24 12:07</td>\n",
       "    </tr>\n",
       "  </tbody>\n",
       "</table>\n",
       "</div>"
      ],
      "text/plain": [
       "                    ts  aqius mainus  aqicn maincn      nearest city  \\\n",
       "0  2024-04-24 06:00:00     19     p2      7     p2  Nizhniy Novgorod   \n",
       "\n",
       "   weather tp  weather pr  weather hu  weather ws  weather wd weather ic  \\\n",
       "0          12        1020          44           6         250        01d   \n",
       "\n",
       "   coordinates longitude  coordinates latitude         timestamp  \n",
       "0               44.00205              56.32867  2024-04-24 12:07  "
      ]
     },
     "execution_count": 19,
     "metadata": {},
     "output_type": "execute_result"
    }
   ],
   "source": [
    "summary['nearest city'] = df['data'][0]\n",
    "summary['weather tp'] = weather['tp']\n",
    "summary['weather pr'] = weather['pr']\n",
    "summary['weather hu'] = weather['hu']\n",
    "summary['weather ws'] = weather['ws']\n",
    "summary['weather wd'] = weather['wd']\n",
    "summary['weather ic'] = weather['ic']\n",
    "summary['coordinates longitude'] = coord['coordinates'][0][0]\n",
    "summary['coordinates latitude'] = coord['coordinates'][0][1]\n",
    "\n",
    "# Преобразование даты в строку для сериализации объекта Timestamp в формат JSON для обновления данных в Google Sheets \n",
    "summary['ts'] = summary['ts'].dt.strftime('%Y-%m-%d %H:%M:%S')\n",
    "# Добавление даты и времени записи данных \n",
    "summary['timestamp'] = datetime.now().strftime('%Y-%m-%d %H:%M')\n",
    "\n",
    "summary"
   ]
  },
  {
   "cell_type": "markdown",
   "metadata": {},
   "source": [
    "Получили необходимые данные."
   ]
  },
  {
   "cell_type": "markdown",
   "metadata": {},
   "source": [
    "# Подключение к Google Sheets API"
   ]
  },
  {
   "cell_type": "code",
   "execution_count": 20,
   "metadata": {},
   "outputs": [
    {
     "data": {
      "text/plain": [
       "{'spreadsheetId': '1vwBnnewrbCQfp8m7N-3-RTBwllgi1lx0EQIQWZXZP2Y',\n",
       " 'updatedRange': \"'Лист1'!A1:O2\",\n",
       " 'updatedRows': 2,\n",
       " 'updatedColumns': 15,\n",
       " 'updatedCells': 30}"
      ]
     },
     "execution_count": 20,
     "metadata": {},
     "output_type": "execute_result"
    }
   ],
   "source": [
    "# Подключение к Google Sheets API\n",
    "scope = ['https://spreadsheets.google.com/feeds',\n",
    "         'https://www.googleapis.com/auth/drive']\n",
    "credentials = service_account.Credentials.from_service_account_file(\n",
    "    r'C:\\Users\\amo\\Documents\\python\\API key\\credentials.json', scopes=scope)\n",
    "\n",
    "gc = gspread.authorize(credentials)\n",
    "\n",
    "# Открываем Google Sheets документ по названию\n",
    "worksheet = gc.open(\"summary_data\").sheet1\n",
    "\n",
    "# Обновление данных в Google Sheets\n",
    "worksheet.update([summary.columns.values.tolist()] + summary.values.tolist())"
   ]
  },
  {
   "cell_type": "markdown",
   "metadata": {},
   "source": [
    "Данные в Google Sheets обновлены."
   ]
  },
  {
   "cell_type": "markdown",
   "metadata": {},
   "source": [
    "# Дашборд"
   ]
  },
  {
   "cell_type": "markdown",
   "metadata": {},
   "source": [
    "Полученная информация выведена на дашборд [«Индекс качества воздуха»](https://lookerstudio.google.com/reporting/e1123b91-adca-4516-914b-1b13d36093a6) в Looker Studio с подключением к Google Sheets."
   ]
  },
  {
   "cell_type": "markdown",
   "metadata": {},
   "source": [
    "Создано поле, которое выводит текствоый комментарий, соответствующий [легенде индекса качества воздуха США](https://www.iqair.com/ru/world-air-quality-ranking). Цвет карточки индекса качества воздуха на дашборде меняется с помощью условного форматирования. Цветовой код:"
   ]
  },
  {
   "attachments": {
    "image.png": {
     "image/png": "[encoded data removed]"
    }
   },
   "cell_type": "markdown",
   "metadata": {},
   "source": [
    "![image.png](attachment:image.png)"
   ]
  },
  {
   "cell_type": "markdown",
   "metadata": {},
   "source": [
    "# Вывод"
   ]
  },
  {
   "cell_type": "markdown",
   "metadata": {},
   "source": [
    "- Осуществлено подключение к API [AQAir](https://www.iqair.com/ru/world-air-quality).\n",
    "- Получен текущий индекс качества воздуха (AQI) и погода в ближайшем городе, используя геолокацию IP-адреса.\n",
    "- Данные выведены в датафрейм.\n",
    "- Осуществлено подключение к Google Sheets API.\n",
    "- Произведено обновление данных в Google Sheets.\n",
    "- Полученная информация выведена на дашборд [«Индекс качества воздуха»](https://lookerstudio.google.com/reporting/e1123b91-adca-4516-914b-1b13d36093a6) в Looker Studio с подключением к Google Sheets."
   ]
  }
 ],
 "metadata": {
  "celltoolbar": "Format de la Cellule Texte Brut",
  "hide_input": false,
  "kernelspec": {
   "display_name": "Python 3 (ipykernel)",
   "language": "python",
   "name": "python3"
  },
  "language_info": {
   "codemirror_mode": {
    "name": "ipython",
    "version": 3
   },
   "file_extension": ".py",
   "mimetype": "text/x-python",
   "name": "python",
   "nbconvert_exporter": "python",
   "pygments_lexer": "ipython3",
   "version": "3.9.16"
  },
  "toc": {
   "base_numbering": 1,
   "nav_menu": {},
   "number_sections": true,
   "sideBar": true,
   "skip_h1_title": false,
   "title_cell": "Содержание",
   "title_sidebar": "Contents",
   "toc_cell": true,
   "toc_position": {
    "height": "calc(100% - 180px)",
    "left": "10px",
    "top": "150px",
    "width": "194.102px"
   },
   "toc_section_display": true,
   "toc_window_display": false
  }
 },
 "nbformat": 4,
 "nbformat_minor": 4
}
